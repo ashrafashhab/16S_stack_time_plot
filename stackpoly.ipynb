{
 "cells": [
  {
   "cell_type": "code",
   "execution_count": 16,
   "metadata": {},
   "outputs": [],
   "source": [
    "library(MASS)\n",
    "library(vegan)\n",
    "library(ggplot2)\n",
    "library(MASS)\n",
    "library(vegan)\n",
    "library(ggplot2)\n",
    "library(reticulate)\n",
    "#library(corrplot)\n",
    "#library(ggbiplot)\n",
    "library(RColorBrewer)\n",
    "#library(matrixStats)\n",
    "#library(biomformat)\n",
    "library(data.table)\n",
    "library(plotrix)"
   ]
  },
  {
   "cell_type": "code",
   "execution_count": 20,
   "metadata": {
    "collapsed": true
   },
   "outputs": [],
   "source": [
    "Acidobacteria<-colorRampPalette(c(\"lightgray\",\"darkgray\"))\n",
    "Actinobacteria<-colorRampPalette(c(\"lightyellow\",\"yellow\"))\n",
    "Aminicenantes<-colorRampPalette(c(\"yellow1\",\"yellow3\"))\n",
    "Armatimonadetes<-colorRampPalette(c(\"orange\",\"darkorange\"))\n",
    "Bacteroidetes<-colorRampPalette(c(\"red1\",\"red4\"))\n",
    "BRC1<-colorRampPalette(c(\"cyan2\",\"cyan3\"))\n",
    "candidate_division_ZB3<-colorRampPalette(c(\"brown4\",\"brown\"))\n",
    "Candidatus_Saccharibacteria<-colorRampPalette(c(\"lightyellow\",\"yellow\"))\n",
    "Chlamydiae<-colorRampPalette(c(\"firebrick1\",\"firebrick1\"))\n",
    "Chlorobi<-colorRampPalette(c(\"purple1\",\"purple2\"))\n",
    "Chloroflexi<-colorRampPalette(c(\"cyan1\",\"cyan4\"))\n",
    "Cyanobacteria<-colorRampPalette(c(\"lightgreen\",\"darkgreen\"))\n",
    "Deferribacteres<-colorRampPalette(c(\"yellow1\",\"yellow4\"))\n",
    "Deinococcus_Thermus<-colorRampPalette(c(\"pink1\",\"pink4\"))\n",
    "Elusimicrobia<-colorRampPalette(c(\"burlywood1\",\"burlywood4\"))\n",
    "Fibrobacteres<-colorRampPalette(c(\"lightyellow\",\"yellow\"))\n",
    "Firmicutes<-colorRampPalette(c(\"magenta\",\"darkmagenta\"))\n",
    "Fusobacteria<-colorRampPalette(c(\"purple\",\"mediumpurple4\"))\n",
    "Gemmatimonadetes<-colorRampPalette(c(\"darkgoldenrod1\",\"darkgoldenrod4\"))\n",
    "GN02<-colorRampPalette(c(\"magenta\",\"darkmagenta\"))\n",
    "Ignavibacteriae<-colorRampPalette(c(\"chocolate1\",\"chocolate4\"))\n",
    "Latescibacteria<-colorRampPalette(c(\"burlywood1\",\"burlywood4\"))\n",
    "Microgenomates<-colorRampPalette(c(\"lightgray\",\"darkgray\"))\n",
    "Nitrospirae<-colorRampPalette(c(\"magenta\",\"darkmagenta\"))\n",
    "OD1<-colorRampPalette(c(\"lightgray\",\"darkgray\"))\n",
    "Parcubacteria<-colorRampPalette(c(\"lightgray\",\"darkgray\"))\n",
    "Planctomycetes<-colorRampPalette(c(\"cyan1\",\"cyan4\"))\n",
    "Poribacteria<-colorRampPalette(c(\"burlywood1\",\"burlywood4\"))\n",
    "Proteobacteria<-colorRampPalette(c(\"lightblue\",\"darkblue\"))\n",
    "Spirochaetes<-colorRampPalette(c(\"darkorchid1\",\"darkorchid4\"))\n",
    "SR1<-colorRampPalette(c(\"magenta\",\"darkmagenta\"))\n",
    "Synergistetes<-colorRampPalette(c(\"lightyellow\",\"yellow\"))\n",
    "Tenericutes<-colorRampPalette(c(\"lightgray\",\"darkgray\"))\n",
    "TM6<-colorRampPalette(c(\"pink1\",\"pink4\"))\n",
    "TM7<-colorRampPalette(c(\"chocolate1\",\"chocolate4\"))\n",
    "Verrucomicrobia<-colorRampPalette(c(\"deeppink\",\"deeppink4\"))\n"
   ]
  },
  {
   "cell_type": "code",
   "execution_count": 21,
   "metadata": {},
   "outputs": [],
   "source": [
    "otu<-read.table(\"L6_R.txt\",header=T,row.names=1,sep=\",\")\n",
    "otu<-otu[order(otu$Phylum),]\n",
    "map<-read.table(\"reserve_map.txt\",header=T,row.names=6,sep=\",\")\n",
    "otu1<-otu[,7:(dim(otu)[2])]\n",
    "otu1<-decostand(otu1,method=\"total\",MARGIN=2)\n",
    "otu_map<-subset(otu1[,rownames(map)])\n",
    "otu_all<-cbind(otu_map,otu[,1:6])\n",
    "otu_map_0<-otu_all[rowSums(otu_all[,1:dim(otu_map)[2]])!=0,]\n",
    "write.table(otu_map_0,\"res.txt\",sep=\"\\t\",quote=F)\n",
    "otu<-read.table(\"res.txt\",header=T,row.names=1,sep=\"\\t\")\n"
   ]
  },
  {
   "cell_type": "code",
   "execution_count": 22,
   "metadata": {},
   "outputs": [
    {
     "data": {
      "text/html": [
       "<strong>png:</strong> 2"
      ],
      "text/latex": [
       "\\textbf{png:} 2"
      ],
      "text/markdown": [
       "**png:** 2"
      ],
      "text/plain": [
       "png \n",
       "  2 "
      ]
     },
     "metadata": {},
     "output_type": "display_data"
    },
    {
     "data": {
      "text/html": [
       "<strong>png:</strong> 2"
      ],
      "text/latex": [
       "\\textbf{png:} 2"
      ],
      "text/markdown": [
       "**png:** 2"
      ],
      "text/plain": [
       "png \n",
       "  2 "
      ]
     },
     "metadata": {},
     "output_type": "display_data"
    }
   ],
   "source": [
    "x<-otu[order(otu$Phylum),]\n",
    "\n",
    "c<-table(otu$Phylum)\n",
    "c<-as.matrix(c)\n",
    "\n",
    "write.table(c,\"phylum.table\",sep=\" \", quote=FALSE, col.names=F,row.names=T)\n",
    "py_run_file(\"/home/ashraf/Documents/protocol/AshrafColoreR.py\")\n",
    "source(\"/home/ashraf/Documents/protocol/Phylum_Color.r\")\n",
    "lm<-c\n",
    "lm[lm>0]<-1\n",
    "l<-rownames(lm)[lm[,1]>0]\n",
    "\n",
    "\n",
    "write.table(lm,\"legend.table\",sep=\" \", quote=FALSE, col.names=F,row.names=T)\n",
    "py_run_file(\"/home/ashraf/Documents/protocol/legendColoreR.py\")\n",
    "source(\"/home/ashraf/Documents/protocol/legend_Color.r\")\n",
    "\n",
    "\n",
    "\n",
    "y<-t(otu[,1:(dim(otu)[2]-6)])\n",
    "map$Date <- as.Date( paste( map$month , map$day, map$year, sep = \".\" )  , format = \"%m.%d.%Y\")\n",
    "xx=matrix(map$Date,nrow=dim(y)[1],ncol=dim(y)[2])\n",
    "pdf(\"reserve_dor.pdf\")\n",
    "par(mar=c(8,7,1,3) + 0.1)\n",
    "stackpoly(x=xx,stack=T,y=y,axis4=F,lwd=1,border=\"black\",xaxlab=F,col=colors(sum(c[,1])))\n",
    "staxlab(1,map$Date,srt=90)\n",
    "legend(1,l,bg=\"#ffffff55\",fill=colorslm(sum(lm[,1])),yjust=2)\n",
    "dev.off()\n",
    "\n",
    "\n",
    "y1<-t(y)\n",
    "pdf(\"otu_cleaned_no_chloroplast_close bar.pdf\")\n",
    "par(mar=c(13,8,1,15))\n",
    "barplot(y1,col=colors(sum(c[,1])),las=2,ylab=\"Total abundacne\")\n",
    "legend(1,l,bg=\"#ffffff55\",fill=colorslm(sum(lm[,1])),xjust=-0.9,xpd=T)\n",
    "dev.off()\n"
   ]
  },
  {
   "cell_type": "code",
   "execution_count": null,
   "metadata": {
    "collapsed": true
   },
   "outputs": [],
   "source": []
  },
  {
   "cell_type": "code",
   "execution_count": null,
   "metadata": {
    "collapsed": true
   },
   "outputs": [],
   "source": []
  }
 ],
 "metadata": {
  "kernelspec": {
   "display_name": "R",
   "language": "R",
   "name": "ir"
  },
  "language_info": {
   "codemirror_mode": "r",
   "file_extension": ".r",
   "mimetype": "text/x-r-source",
   "name": "R",
   "pygments_lexer": "r",
   "version": "3.4.1"
  }
 },
 "nbformat": 4,
 "nbformat_minor": 2
}
